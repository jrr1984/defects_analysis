{
 "cells": [
  {
   "cell_type": "code",
   "execution_count": null,
   "metadata": {},
   "outputs": [],
   "source": [
    "%matplotlib auto"
   ]
  },
  {
   "cell_type": "code",
   "execution_count": null,
   "metadata": {},
   "outputs": [],
   "source": [
    "from math import sqrt\n",
    "from skimage import data,io,util\n",
    "from skimage.feature import blob_dog, blob_log, blob_doh\n",
    "from skimage.color import rgb2gray\n",
    "\n",
    "import matplotlib.pyplot as plt\n",
    "\n",
    "def normalize(arr):\n",
    "    arr_min = arr.min()\n",
    "    arr_max = arr.max()\n",
    "    return (arr - arr_min) / (arr_max - arr_min)\n",
    "\n",
    "\n",
    "img = io.imread('C:/Users/juanr/Documents/mediciones_ZEISS/bandas/Bandanorm/norm_10.png')\n",
    "img = rgb2gray(img)\n",
    "image_gray = util.invert(img)\n",
    "\n",
    "blobs_log = blob_log(image_gray, max_sigma=15, num_sigma=1, threshold=.001)\n",
    "\n",
    "# Compute radii in the 3rd column.\n",
    "blobs_log[:, 2] = blobs_log[:, 2] * sqrt(2)\n",
    "\n",
    "blobs_dog = blob_dog(image_gray, max_sigma=15, threshold=.01)\n",
    "blobs_dog[:, 2] = blobs_dog[:, 2] * sqrt(2)\n",
    "\n",
    "blobs_doh = blob_doh(image_gray, max_sigma=15, threshold=.1)\n",
    "\n",
    "blobs_list = [blobs_log, blobs_dog, blobs_doh]\n",
    "colors = ['yellow', 'lime', 'red']\n",
    "titles = ['Laplacian of Gaussian', 'Difference of Gaussian',\n",
    "          'Determinant of Hessian']\n",
    "sequence = zip(blobs_list, colors, titles)\n",
    "\n",
    "fig, axes = plt.subplots(1, 3, figsize=(9, 3), sharex=True, sharey=True)\n",
    "ax = axes.ravel()\n",
    "\n",
    "for idx, (blobs, color, title) in enumerate(sequence):\n",
    "    ax[idx].set_title(title)\n",
    "    ax[idx].imshow(img)\n",
    "    for blob in blobs:\n",
    "        y, x, r = blob\n",
    "        c = plt.Circle((x, y), r, color=color, linewidth=2, fill=False)\n",
    "        ax[idx].add_patch(c)\n",
    "    ax[idx].set_axis_off()\n",
    "\n",
    "plt.tight_layout()\n",
    "plt.show()"
   ]
  },
  {
   "cell_type": "code",
   "execution_count": null,
   "metadata": {},
   "outputs": [],
   "source": [
    "from skimage import data, feature,io\n",
    "from skimage.color import rgb2gray\n",
    "\n",
    "import matplotlib.pyplot as plt\n",
    "\n",
    "from skimage import data, feature\n",
    "img = data.coins()\n",
    "blobs_container = feature.blob_doh(img)"
   ]
  },
  {
   "cell_type": "code",
   "execution_count": null,
   "metadata": {},
   "outputs": [],
   "source": [
    "plt.imshow(img,cmap='gray')\n",
    "plt.title('DoH blob detection')\n",
    "\n",
    "for (i,j,k) in blobs_container:\n",
    "        c = plt.Circle((j, i),k, color='red', linewidth=2, fill=False)\n",
    "        lplt.add_patch(c)"
   ]
  },
  {
   "cell_type": "code",
   "execution_count": null,
   "metadata": {},
   "outputs": [],
   "source": [
    "from skimage import data, feature,io,util\n",
    "from skimage.color import rgb2gray\n",
    "from skimage.filters import try_all_threshold\n",
    "\n",
    "img = io.imread('C:/Users/juanr/Documents/mediciones_ZEISS/TILING/NIR/Tiles/Experiment-11_m001_ORG.png')\n",
    "#img = rgb2gray(img)\n",
    "#img = util.invert(img)\n",
    "\n",
    "# Here, we specify a radius for local thresholding algorithms.\n",
    "# If it is not specified, only global algorithms are called.\n",
    "try_all_threshold(img, figsize=(10, 8), verbose=False)\n",
    "#fig, ax = try_all_threshold(img, figsize=(10, 8), verbose=False)\n",
    "#plt.show()"
   ]
  },
  {
   "cell_type": "code",
   "execution_count": null,
   "metadata": {},
   "outputs": [],
   "source": [
    "import matplotlib.pyplot as plt\n",
    "fig, ax = plt.subplots(figsize=(8, 4))\n",
    "\n",
    "def normalize(arr):\n",
    "    arr_min = arr.min()\n",
    "    arr_max = arr.max()\n",
    "    return (arr - arr_min) / (arr_max - arr_min)\n",
    "simg = normalize(img)\n",
    "ax.hist(simg.flatten(), log=True,\n",
    "        bins=1000)\n",
    "\n",
    "_ = ax.set_title('Min value: %f \\n'\n",
    "                 'Max value: %f \\n'\n",
    "                 'Image shape: %s \\n'\n",
    "                 % (img.min(),\n",
    "                    img.max(),\n",
    "                    img.shape))\n"
   ]
  },
  {
   "cell_type": "code",
   "execution_count": null,
   "metadata": {},
   "outputs": [],
   "source": [
    "plt.imshow(simg,cmap='gray')\n",
    "plt.colorbar()"
   ]
  },
  {
   "cell_type": "code",
   "execution_count": null,
   "metadata": {},
   "outputs": [],
   "source": [
    "import matplotlib.pyplot as plt\n",
    "import matplotlib.patches as mpatches\n",
    "\n",
    "from skimage import data\n",
    "from skimage.filters import threshold_otsu\n",
    "from skimage.segmentation import clear_border\n",
    "from skimage.measure import label, regionprops,regionprops_table\n",
    "from skimage.morphology import closing, square\n",
    "from skimage.color import label2rgb\n",
    "\n",
    "\n",
    "img = io.imread('C:/Users/juanr/Documents/mediciones_ZEISS/bandas/Bandanorm/norm_100.png')\n",
    "img = rgb2gray(img)\n",
    "image = util.invert(img)\n",
    "\n",
    "# apply threshold\n",
    "thresh = threshold_otsu(image)\n",
    "bw = closing(image > thresh, square(3))\n",
    "\n",
    "# remove artifacts connected to image border\n",
    "\n",
    "\n",
    "# label image regions\n",
    "label_image = label(bw)\n",
    "image_label_overlay = label2rgb(label_image, image=image)"
   ]
  },
  {
   "cell_type": "code",
   "execution_count": null,
   "metadata": {},
   "outputs": [],
   "source": [
    "fig, ax = plt.subplots(figsize=(10, 6))\n",
    "ax.imshow(image_label_overlay)\n",
    "for region in regionprops(label_image):\n",
    "    # take regions with large enough areas\n",
    "    if region.area >= 100:\n",
    "        # draw rectangle around segmented coins\n",
    "        minr, minc, maxr, maxc = region.bbox\n",
    "        rect = mpatches.Rectangle((minc, minr), maxc - minc, maxr - minr,\n",
    "                                  fill=False, edgecolor='red', linewidth=2)\n",
    "        ax.add_patch(rect)\n",
    "\n",
    "ax.set_axis_off()\n",
    "plt.tight_layout()\n",
    "plt.show()"
   ]
  },
  {
   "cell_type": "code",
   "execution_count": null,
   "metadata": {},
   "outputs": [],
   "source": [
    "pixels_to_microns = 0.586\n",
    "import pandas as pd\n",
    "proplist = ['area','convex_area','filled_area','major_axis_length','minor_axis_length',\n",
    "            'perimeter','equivalent_diameter','extent']\n",
    "props = regionprops_table(label_image, intensity_image=img, properties=proplist)\n",
    "df = pd.DataFrame(props)\n",
    "df['equivalent_diameter'] = df['equivalent_diameter'] * pixels_to_microns\n",
    "df['area'] = df['area'] * pixels_to_microns **2\n",
    "df['convex_area']=df['convex_area']*pixels_to_microns**2\n",
    "df['filled_area']=df['filled_area']*pixels_to_microns**2\n",
    "df['extent'] = df['extent']*pixels_to_microns**2\n",
    "df['major_axis_length'] = df['major_axis_length']*pixels_to_microns\n",
    "df['minor_axis_length'] = df['minor_axis_length']*pixels_to_microns\n",
    "df['perimeter'] = df['perimeter']*pixels_to_microns"
   ]
  },
  {
   "cell_type": "code",
   "execution_count": null,
   "metadata": {},
   "outputs": [],
   "source": [
    "df"
   ]
  },
  {
   "cell_type": "code",
   "execution_count": null,
   "metadata": {},
   "outputs": [],
   "source": []
  },
  {
   "cell_type": "code",
   "execution_count": null,
   "metadata": {},
   "outputs": [],
   "source": []
  }
 ],
 "metadata": {
  "kernelspec": {
   "display_name": "Python 3",
   "language": "python",
   "name": "python3"
  },
  "language_info": {
   "codemirror_mode": {
    "name": "ipython",
    "version": 3
   },
   "file_extension": ".py",
   "mimetype": "text/x-python",
   "name": "python",
   "nbconvert_exporter": "python",
   "pygments_lexer": "ipython3",
   "version": "3.6.7"
  }
 },
 "nbformat": 4,
 "nbformat_minor": 4
}

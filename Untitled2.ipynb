{
 "cells": [
  {
   "cell_type": "code",
   "execution_count": 1,
   "metadata": {},
   "outputs": [],
   "source": [
    "import cv2\n",
    "import numpy as np\n",
    "import matplotlib.pyplot as plt\n",
    "import glob\n",
    "from skimage import measure,color,io,util,filters,feature\n",
    "from skimage.measure import regionprops_table\n",
    "from skimage.color import rgb2gray,grey2rgb\n",
    "from skimage.segmentation import clear_border\n",
    "import pandas as pd\n",
    "\n",
    "pixels_to_microns = 0.586\n",
    "proplist = ['label','area','centroid','equivalent_diameter','extent']\n",
    "\n",
    "path = \"C:/Users/juanr/Documents/mediciones_ZEISS/bandas/Bandanorm/*.png\""
   ]
  },
  {
   "cell_type": "code",
   "execution_count": null,
   "metadata": {},
   "outputs": [],
   "source": [
    "for file in glob.glob(path):\n",
    "    ig1 = io.imread(file)\n",
    "    img1 = grey2rgb(ig1)\n",
    "    img1 = util.img_as_ubyte(img1)\n",
    "    img = util.invert(ig1)\n",
    "    img = util.img_as_ubyte(img)\n",
    "\n",
    "    # ret1,thresh = cv2.threshold(img,10,255,cv2.THRESH_BINARY +cv2.THRESH_OTSU)\n",
    "    ret,thresh = cv2.threshold(img,18,255,cv2.THRESH_BINARY)\n",
    "    f, (ax0, ax1) = plt.subplots(1, 2, figsize=(10, 5))\n",
    "    ax0.imshow(img1, cmap='gray')\n",
    "    ax1.imshow(thresh, cmap='gray')\n",
    "    plt.show()\n",
    "    kernel = np.ones((1,1),np.uint8)\n",
    "    opening = cv2.morphologyEx(thresh,cv2.MORPH_OPEN,kernel,iterations=1)\n",
    "    opening = clear_border(opening)\n",
    "    # f, (ax0, ax1) = plt.subplots(1, 2, figsize=(10, 5))\n",
    "    # ax0.imshow(img1, cmap='gray')\n",
    "    # ax1.imshow(opening, cmap='gray')\n",
    "    # plt.show()\n",
    "\n",
    "    #removesmallobjects, img + minsize\n",
    "\n",
    "    sure_bg = cv2.dilate(opening,kernel,iterations=10)\n",
    "    dist_transform = cv2.distanceTransform(opening,cv2.DIST_L2,3)\n",
    "    ret2,sure_fg = cv2.threshold(dist_transform,0.01*dist_transform.max(),255,0)\n",
    "    sure_fg = np.uint8(sure_fg)\n",
    "    unknown = cv2.subtract(sure_bg,sure_fg)\n",
    "    ret3,markers = cv2.connectedComponents(sure_fg)\n",
    "    markers += 10\n",
    "    markers[unknown==255] = 0\n",
    "    markers = cv2.watershed(img1,markers)\n",
    "\n",
    "    img1[markers==-1] = [0,255,255]\n",
    "    img2 = color.label2rgb(markers,bg_label=0)\n",
    "\n",
    "    # f, (ax0, ax1) = plt.subplots(1, 2, figsize=(10, 5))\n",
    "    # ax0.imshow(img1, cmap='gray')\n",
    "    # ax1.imshow(img2, cmap='gray')\n",
    "    # plt.show()"
   ]
  }
 ],
 "metadata": {
  "kernelspec": {
   "display_name": "Python 3",
   "language": "python",
   "name": "python3"
  },
  "language_info": {
   "codemirror_mode": {
    "name": "ipython",
    "version": 3
   },
   "file_extension": ".py",
   "mimetype": "text/x-python",
   "name": "python",
   "nbconvert_exporter": "python",
   "pygments_lexer": "ipython3",
   "version": "3.6.7"
  }
 },
 "nbformat": 4,
 "nbformat_minor": 4
}

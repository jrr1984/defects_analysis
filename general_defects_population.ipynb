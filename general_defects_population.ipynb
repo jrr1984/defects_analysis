{
 "cells": [
  {
   "cell_type": "code",
   "execution_count": null,
   "metadata": {},
   "outputs": [],
   "source": [
    "import cv2\n",
    "from matplotlib import pyplot as plt\n",
    "from skimage import exposure,util\n",
    "import pandas as pd\n",
    "import numpy as np\n",
    "import seaborn as sns\n",
    "from pandas_profiling import ProfileReport\n",
    "sns.set(color_codes=True)\n",
    "%matplotlib auto"
   ]
  },
  {
   "cell_type": "code",
   "execution_count": null,
   "metadata": {},
   "outputs": [],
   "source": [
    "df1 = pd.read_pickle(\"C:/Users/juanr/Documents/data_mediciones/defects/defectsAZUL_df.pkl\")\n",
    "df2 = pd.read_pickle(\"C:/Users/juanr/Documents/data_mediciones/defects/defectsVERDE_df.pkl\")\n",
    "df3 = pd.read_pickle(\"C:/Users/juanr/Documents/data_mediciones/defects/defectsPANC_df.pkl\")\n",
    "df4 = pd.read_pickle(\"C:/Users/juanr/Documents/data_mediciones/defects/defectsROJA_df.pkl\")\n",
    "df5 = pd.read_pickle(\"C:/Users/juanr/Documents/data_mediciones/defects/defectsNIR_df.pkl\")\n",
    "df = pd.concat([df1, df2, df3,df4,df5], ignore_index=True)\n",
    "df.info(),df.shape"
   ]
  },
  {
   "cell_type": "code",
   "execution_count": null,
   "metadata": {},
   "outputs": [],
   "source": [
    "df.describe()"
   ]
  },
  {
   "cell_type": "code",
   "execution_count": null,
   "metadata": {},
   "outputs": [],
   "source": [
    "imgs = df.groupby('img').apply(lambda group: group.iloc[0:])\n",
    "imgs"
   ]
  },
  {
   "cell_type": "code",
   "execution_count": null,
   "metadata": {},
   "outputs": [],
   "source": [
    "df.sum(axis = 0)"
   ]
  },
  {
   "cell_type": "code",
   "execution_count": null,
   "metadata": {},
   "outputs": [],
   "source": [
    "sns.distplot(df['equivalent_diameter'], kde=True, color='Blue', bins=50)"
   ]
  },
  {
   "cell_type": "code",
   "execution_count": null,
   "metadata": {},
   "outputs": [],
   "source": [
    "df['equivalent_diameter'].median()"
   ]
  },
  {
   "cell_type": "code",
   "execution_count": null,
   "metadata": {},
   "outputs": [],
   "source": []
  }
 ],
 "metadata": {
  "kernelspec": {
   "display_name": "Python 3",
   "language": "python",
   "name": "python3"
  },
  "language_info": {
   "codemirror_mode": {
    "name": "ipython",
    "version": 3
   },
   "file_extension": ".py",
   "mimetype": "text/x-python",
   "name": "python",
   "nbconvert_exporter": "python",
   "pygments_lexer": "ipython3",
   "version": "3.6.7"
  }
 },
 "nbformat": 4,
 "nbformat_minor": 4
}

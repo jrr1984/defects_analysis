{
 "cells": [
  {
   "cell_type": "code",
   "execution_count": 1,
   "metadata": {},
   "outputs": [
    {
     "name": "stdout",
     "output_type": "stream",
     "text": [
      "Using matplotlib backend: TkAgg\n"
     ]
    }
   ],
   "source": [
    "import cv2\n",
    "from matplotlib import pyplot as plt\n",
    "from skimage import exposure,util\n",
    "import pandas as pd\n",
    "import numpy as np\n",
    "import seaborn as sns\n",
    "from pandas_profiling import ProfileReport\n",
    "sns.set(color_codes=True)\n",
    "%matplotlib auto"
   ]
  },
  {
   "cell_type": "code",
   "execution_count": 2,
   "metadata": {},
   "outputs": [
    {
     "name": "stdout",
     "output_type": "stream",
     "text": [
      "<class 'pandas.core.frame.DataFrame'>\n",
      "RangeIndex: 12674 entries, 0 to 12673\n",
      "Data columns (total 5 columns):\n",
      "equivalent_diameter    12674 non-null float64\n",
      "area                   12674 non-null float64\n",
      "error_diameter         9043 non-null float64\n",
      "error_area             9043 non-null float64\n",
      "img                    12674 non-null int64\n",
      "dtypes: float64(4), int64(1)\n",
      "memory usage: 495.2 KB\n"
     ]
    },
    {
     "data": {
      "text/plain": [
       "(None, (12674, 5))"
      ]
     },
     "execution_count": 2,
     "metadata": {},
     "output_type": "execute_result"
    }
   ],
   "source": [
    "df1 = pd.read_pickle(\"C:/Users/juanr/Documents/data_mediciones/defects/defectsAZUL_df.pkl\")\n",
    "df2 = pd.read_pickle(\"C:/Users/juanr/Documents/data_mediciones/defects/defectsVERDE_df.pkl\")\n",
    "df3 = pd.read_pickle(\"C:/Users/juanr/Documents/data_mediciones/defects/defectsPANC_df.pkl\")\n",
    "df4 = pd.read_pickle(\"C:/Users/juanr/Documents/data_mediciones/defects/defectsROJA_df.pkl\")\n",
    "df5 = pd.read_pickle(\"C:/Users/juanr/Documents/data_mediciones/defects/defectsNIR_df.pkl\")\n",
    "df = pd.concat([df1, df2, df3,df4,df5], ignore_index=True)\n",
    "df.info(),df.shape"
   ]
  },
  {
   "cell_type": "code",
   "execution_count": 3,
   "metadata": {},
   "outputs": [
    {
     "data": {
      "text/html": [
       "<div>\n",
       "<style scoped>\n",
       "    .dataframe tbody tr th:only-of-type {\n",
       "        vertical-align: middle;\n",
       "    }\n",
       "\n",
       "    .dataframe tbody tr th {\n",
       "        vertical-align: top;\n",
       "    }\n",
       "\n",
       "    .dataframe thead th {\n",
       "        text-align: right;\n",
       "    }\n",
       "</style>\n",
       "<table border=\"1\" class=\"dataframe\">\n",
       "  <thead>\n",
       "    <tr style=\"text-align: right;\">\n",
       "      <th></th>\n",
       "      <th>equivalent_diameter</th>\n",
       "      <th>area</th>\n",
       "      <th>error_diameter</th>\n",
       "      <th>error_area</th>\n",
       "      <th>img</th>\n",
       "    </tr>\n",
       "  </thead>\n",
       "  <tbody>\n",
       "    <tr>\n",
       "      <th>count</th>\n",
       "      <td>12674.000000</td>\n",
       "      <td>12674.000000</td>\n",
       "      <td>9043.000000</td>\n",
       "      <td>9043.000000</td>\n",
       "      <td>12674.000000</td>\n",
       "    </tr>\n",
       "    <tr>\n",
       "      <th>mean</th>\n",
       "      <td>5.001499</td>\n",
       "      <td>30.662932</td>\n",
       "      <td>2.401084</td>\n",
       "      <td>34.838439</td>\n",
       "      <td>74.803377</td>\n",
       "    </tr>\n",
       "    <tr>\n",
       "      <th>std</th>\n",
       "      <td>3.770742</td>\n",
       "      <td>99.736845</td>\n",
       "      <td>4.424528</td>\n",
       "      <td>137.023700</td>\n",
       "      <td>45.489401</td>\n",
       "    </tr>\n",
       "    <tr>\n",
       "      <th>min</th>\n",
       "      <td>3.000000</td>\n",
       "      <td>5.000000</td>\n",
       "      <td>0.000000</td>\n",
       "      <td>0.000000</td>\n",
       "      <td>0.000000</td>\n",
       "    </tr>\n",
       "    <tr>\n",
       "      <th>25%</th>\n",
       "      <td>3.000000</td>\n",
       "      <td>8.000000</td>\n",
       "      <td>0.000000</td>\n",
       "      <td>3.000000</td>\n",
       "      <td>37.000000</td>\n",
       "    </tr>\n",
       "    <tr>\n",
       "      <th>50%</th>\n",
       "      <td>4.000000</td>\n",
       "      <td>12.000000</td>\n",
       "      <td>1.000000</td>\n",
       "      <td>7.000000</td>\n",
       "      <td>72.000000</td>\n",
       "    </tr>\n",
       "    <tr>\n",
       "      <th>75%</th>\n",
       "      <td>5.000000</td>\n",
       "      <td>23.000000</td>\n",
       "      <td>2.000000</td>\n",
       "      <td>19.000000</td>\n",
       "      <td>112.000000</td>\n",
       "    </tr>\n",
       "    <tr>\n",
       "      <th>max</th>\n",
       "      <td>81.000000</td>\n",
       "      <td>5174.000000</td>\n",
       "      <td>76.000000</td>\n",
       "      <td>5156.000000</td>\n",
       "      <td>162.000000</td>\n",
       "    </tr>\n",
       "  </tbody>\n",
       "</table>\n",
       "</div>"
      ],
      "text/plain": [
       "       equivalent_diameter          area  error_diameter   error_area  \\\n",
       "count         12674.000000  12674.000000     9043.000000  9043.000000   \n",
       "mean              5.001499     30.662932        2.401084    34.838439   \n",
       "std               3.770742     99.736845        4.424528   137.023700   \n",
       "min               3.000000      5.000000        0.000000     0.000000   \n",
       "25%               3.000000      8.000000        0.000000     3.000000   \n",
       "50%               4.000000     12.000000        1.000000     7.000000   \n",
       "75%               5.000000     23.000000        2.000000    19.000000   \n",
       "max              81.000000   5174.000000       76.000000  5156.000000   \n",
       "\n",
       "                img  \n",
       "count  12674.000000  \n",
       "mean      74.803377  \n",
       "std       45.489401  \n",
       "min        0.000000  \n",
       "25%       37.000000  \n",
       "50%       72.000000  \n",
       "75%      112.000000  \n",
       "max      162.000000  "
      ]
     },
     "execution_count": 3,
     "metadata": {},
     "output_type": "execute_result"
    }
   ],
   "source": [
    "df.describe()"
   ]
  },
  {
   "cell_type": "code",
   "execution_count": 4,
   "metadata": {},
   "outputs": [
    {
     "data": {
      "text/html": [
       "<div>\n",
       "<style scoped>\n",
       "    .dataframe tbody tr th:only-of-type {\n",
       "        vertical-align: middle;\n",
       "    }\n",
       "\n",
       "    .dataframe tbody tr th {\n",
       "        vertical-align: top;\n",
       "    }\n",
       "\n",
       "    .dataframe thead th {\n",
       "        text-align: right;\n",
       "    }\n",
       "</style>\n",
       "<table border=\"1\" class=\"dataframe\">\n",
       "  <thead>\n",
       "    <tr style=\"text-align: right;\">\n",
       "      <th></th>\n",
       "      <th></th>\n",
       "      <th>equivalent_diameter</th>\n",
       "      <th>area</th>\n",
       "      <th>error_diameter</th>\n",
       "      <th>error_area</th>\n",
       "      <th>img</th>\n",
       "    </tr>\n",
       "    <tr>\n",
       "      <th>img</th>\n",
       "      <th></th>\n",
       "      <th></th>\n",
       "      <th></th>\n",
       "      <th></th>\n",
       "      <th></th>\n",
       "      <th></th>\n",
       "    </tr>\n",
       "  </thead>\n",
       "  <tbody>\n",
       "    <tr>\n",
       "      <th rowspan=\"5\" valign=\"top\">0</th>\n",
       "      <th>0</th>\n",
       "      <td>4.0</td>\n",
       "      <td>15.0</td>\n",
       "      <td>1.0</td>\n",
       "      <td>8.0</td>\n",
       "      <td>0</td>\n",
       "    </tr>\n",
       "    <tr>\n",
       "      <th>1</th>\n",
       "      <td>3.0</td>\n",
       "      <td>7.0</td>\n",
       "      <td>1.0</td>\n",
       "      <td>4.0</td>\n",
       "      <td>0</td>\n",
       "    </tr>\n",
       "    <tr>\n",
       "      <th>2</th>\n",
       "      <td>3.0</td>\n",
       "      <td>6.0</td>\n",
       "      <td>0.0</td>\n",
       "      <td>1.0</td>\n",
       "      <td>0</td>\n",
       "    </tr>\n",
       "    <tr>\n",
       "      <th>3</th>\n",
       "      <td>3.0</td>\n",
       "      <td>5.0</td>\n",
       "      <td>1.0</td>\n",
       "      <td>4.0</td>\n",
       "      <td>0</td>\n",
       "    </tr>\n",
       "    <tr>\n",
       "      <th>4</th>\n",
       "      <td>5.0</td>\n",
       "      <td>16.0</td>\n",
       "      <td>4.0</td>\n",
       "      <td>37.0</td>\n",
       "      <td>0</td>\n",
       "    </tr>\n",
       "    <tr>\n",
       "      <th>...</th>\n",
       "      <th>...</th>\n",
       "      <td>...</td>\n",
       "      <td>...</td>\n",
       "      <td>...</td>\n",
       "      <td>...</td>\n",
       "      <td>...</td>\n",
       "    </tr>\n",
       "    <tr>\n",
       "      <th rowspan=\"5\" valign=\"top\">162</th>\n",
       "      <th>5438</th>\n",
       "      <td>6.0</td>\n",
       "      <td>24.0</td>\n",
       "      <td>0.0</td>\n",
       "      <td>2.0</td>\n",
       "      <td>162</td>\n",
       "    </tr>\n",
       "    <tr>\n",
       "      <th>5439</th>\n",
       "      <td>3.0</td>\n",
       "      <td>5.0</td>\n",
       "      <td>0.0</td>\n",
       "      <td>1.0</td>\n",
       "      <td>162</td>\n",
       "    </tr>\n",
       "    <tr>\n",
       "      <th>5440</th>\n",
       "      <td>3.0</td>\n",
       "      <td>8.0</td>\n",
       "      <td>2.0</td>\n",
       "      <td>11.0</td>\n",
       "      <td>162</td>\n",
       "    </tr>\n",
       "    <tr>\n",
       "      <th>5441</th>\n",
       "      <td>5.0</td>\n",
       "      <td>22.0</td>\n",
       "      <td>3.0</td>\n",
       "      <td>17.0</td>\n",
       "      <td>162</td>\n",
       "    </tr>\n",
       "    <tr>\n",
       "      <th>5442</th>\n",
       "      <td>3.0</td>\n",
       "      <td>6.0</td>\n",
       "      <td>NaN</td>\n",
       "      <td>NaN</td>\n",
       "      <td>162</td>\n",
       "    </tr>\n",
       "  </tbody>\n",
       "</table>\n",
       "<p>12674 rows × 5 columns</p>\n",
       "</div>"
      ],
      "text/plain": [
       "          equivalent_diameter  area  error_diameter  error_area  img\n",
       "img                                                                 \n",
       "0   0                     4.0  15.0             1.0         8.0    0\n",
       "    1                     3.0   7.0             1.0         4.0    0\n",
       "    2                     3.0   6.0             0.0         1.0    0\n",
       "    3                     3.0   5.0             1.0         4.0    0\n",
       "    4                     5.0  16.0             4.0        37.0    0\n",
       "...                       ...   ...             ...         ...  ...\n",
       "162 5438                  6.0  24.0             0.0         2.0  162\n",
       "    5439                  3.0   5.0             0.0         1.0  162\n",
       "    5440                  3.0   8.0             2.0        11.0  162\n",
       "    5441                  5.0  22.0             3.0        17.0  162\n",
       "    5442                  3.0   6.0             NaN         NaN  162\n",
       "\n",
       "[12674 rows x 5 columns]"
      ]
     },
     "execution_count": 4,
     "metadata": {},
     "output_type": "execute_result"
    }
   ],
   "source": [
    "imgs = df.groupby('img').apply(lambda group: group.iloc[0:])\n",
    "imgs"
   ]
  },
  {
   "cell_type": "code",
   "execution_count": 5,
   "metadata": {},
   "outputs": [
    {
     "data": {
      "text/plain": [
       "equivalent_diameter     63389.0\n",
       "area                   388622.0\n",
       "error_diameter          21713.0\n",
       "error_area             315044.0\n",
       "img                    948058.0\n",
       "dtype: float64"
      ]
     },
     "execution_count": 5,
     "metadata": {},
     "output_type": "execute_result"
    }
   ],
   "source": [
    "df.sum(axis = 0)"
   ]
  },
  {
   "cell_type": "code",
   "execution_count": null,
   "metadata": {},
   "outputs": [],
   "source": [
    "sns.distplot(df['equivalent_diameter'], kde=True, color='Blue', bins=50)"
   ]
  },
  {
   "cell_type": "code",
   "execution_count": 10,
   "metadata": {},
   "outputs": [
    {
     "data": {
      "text/plain": [
       "4.0"
      ]
     },
     "execution_count": 10,
     "metadata": {},
     "output_type": "execute_result"
    }
   ],
   "source": [
    "df['equivalent_diameter'].median()"
   ]
  },
  {
   "cell_type": "code",
   "execution_count": null,
   "metadata": {},
   "outputs": [],
   "source": []
  }
 ],
 "metadata": {
  "kernelspec": {
   "display_name": "Python 3",
   "language": "python",
   "name": "python3"
  },
  "language_info": {
   "codemirror_mode": {
    "name": "ipython",
    "version": 3
   },
   "file_extension": ".py",
   "mimetype": "text/x-python",
   "name": "python",
   "nbconvert_exporter": "python",
   "pygments_lexer": "ipython3",
   "version": "3.6.7"
  }
 },
 "nbformat": 4,
 "nbformat_minor": 4
}
